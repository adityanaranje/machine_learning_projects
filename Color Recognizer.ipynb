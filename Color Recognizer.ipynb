{
 "cells": [
  {
   "cell_type": "markdown",
   "metadata": {},
   "source": [
    "###  Importing required libraries."
   ]
  },
  {
   "cell_type": "code",
   "execution_count": 1,
   "metadata": {},
   "outputs": [],
   "source": [
    "import pandas as pd\n",
    "import cv2"
   ]
  },
  {
   "cell_type": "markdown",
   "metadata": {},
   "source": [
    "###  Importing the image."
   ]
  },
  {
   "cell_type": "code",
   "execution_count": 2,
   "metadata": {},
   "outputs": [],
   "source": [
    "img = cv2.imread('colorpic6.jpg')\n",
    "img = cv2.resize(img, (1000,700))"
   ]
  },
  {
   "cell_type": "markdown",
   "metadata": {},
   "source": [
    "### Importing dataset/csv file."
   ]
  },
  {
   "cell_type": "code",
   "execution_count": 3,
   "metadata": {},
   "outputs": [],
   "source": [
    "index = ['color','color_name','HEX','R','G','B']\n",
    "data = pd.read_csv('colors.csv',names = index, header=None)"
   ]
  },
  {
   "cell_type": "markdown",
   "metadata": {},
   "source": [
    "### Creating variables for r , g, b values, and x and y co-ordinates."
   ]
  },
  {
   "cell_type": "code",
   "execution_count": 4,
   "metadata": {},
   "outputs": [],
   "source": [
    "clicked = True\n",
    "r = b = g = xpos = ypos = 0"
   ]
  },
  {
   "cell_type": "markdown",
   "metadata": {},
   "source": [
    "### Function to get color name."
   ]
  },
  {
   "cell_type": "code",
   "execution_count": 5,
   "metadata": {},
   "outputs": [],
   "source": [
    "def get_color(R,G,B):\n",
    "    minimum = 10000\n",
    "    for i in range(len(data)):\n",
    "        d = abs(R-int(data.loc[i,'R']))+abs(G-int(data.loc[i,'G']))+abs(B-int(data.loc[i,'B']))\n",
    "        if d<=minimum:\n",
    "            minimum = d\n",
    "            clr_name = data.loc[i,'color_name']\n",
    "    return clr_name"
   ]
  },
  {
   "cell_type": "markdown",
   "metadata": {},
   "source": [
    "### Function to get x and y co-ordinate along with r,g,b values."
   ]
  },
  {
   "cell_type": "code",
   "execution_count": 6,
   "metadata": {},
   "outputs": [],
   "source": [
    "def draw_function(event,x,y,flags,param):\n",
    "    if event == cv2.EVENT_LBUTTONDBLCLK:\n",
    "        global clicked, r, b, g, xpos, ypos\n",
    "        clicked = True\n",
    "        xpos = x\n",
    "        ypos = y\n",
    "        b,g,r = img[y,x]\n",
    "        b = int(b)\n",
    "        g = int(g)\n",
    "        r = int(r)"
   ]
  },
  {
   "cell_type": "code",
   "execution_count": 7,
   "metadata": {},
   "outputs": [],
   "source": [
    "cv2.namedWindow('Image')\n",
    "cv2.setMouseCallback('Image',draw_function)"
   ]
  },
  {
   "cell_type": "markdown",
   "metadata": {},
   "source": [
    "### Showing image for performing task."
   ]
  },
  {
   "cell_type": "code",
   "execution_count": 8,
   "metadata": {},
   "outputs": [],
   "source": [
    "while True:\n",
    "    cv2.imshow(\"Image\",img)\n",
    "    if clicked:\n",
    "        cv2.rectangle(img, (20,20),(980,60), (b,g,r),-1 )\n",
    "        text = get_color(r,g,b)+\"      R= \"+str(r)+\"    G= \"+str(g)+\"    B=\"+str(b)\n",
    "        if (b+g+r)>=450:\n",
    "            cv2.putText(img,text,(50,50),2,0.8,(0,0,0),2,cv2.LINE_AA)\n",
    "        else:\n",
    "            cv2.putText(img,text,(50,50),2,0.8,(255,255,255),2,cv2.LINE_AA)\n",
    "        clicked = False\n",
    "    if cv2.waitKey(20) & 0xFF ==27:\n",
    "        break\n",
    "\n",
    "cv2.destroyAllWindows()"
   ]
  }
 ],
 "metadata": {
  "kernelspec": {
   "display_name": "Python 3",
   "language": "python",
   "name": "python3"
  },
  "language_info": {
   "codemirror_mode": {
    "name": "ipython",
    "version": 3
   },
   "file_extension": ".py",
   "mimetype": "text/x-python",
   "name": "python",
   "nbconvert_exporter": "python",
   "pygments_lexer": "ipython3",
   "version": "3.8.5"
  }
 },
 "nbformat": 4,
 "nbformat_minor": 4
}
